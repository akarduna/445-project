{
 "cells": [
  {
   "cell_type": "code",
   "execution_count": 42,
   "id": "4849aef1-746e-42ee-a33e-490d194d1de4",
   "metadata": {},
   "outputs": [],
   "source": [
    "from pathlib import Path\n",
    "import pandas as pd\n",
    "from sklearn.model_selection import train_test_split"
   ]
  },
  {
   "cell_type": "markdown",
   "id": "35a56093-c39c-45f7-ad9f-ba32f0cd689f",
   "metadata": {},
   "source": [
    "# Load Data"
   ]
  },
  {
   "cell_type": "code",
   "execution_count": 43,
   "id": "fa2d7c2d-1f65-4576-acd1-18518594029c",
   "metadata": {},
   "outputs": [],
   "source": [
    "data_path = Path('parsed_data.csv')"
   ]
  },
  {
   "cell_type": "code",
   "execution_count": 44,
   "id": "c683ac83-7c52-4169-8f25-fa7b599a11aa",
   "metadata": {},
   "outputs": [
    {
     "data": {
      "text/html": [
       "<div>\n",
       "<style scoped>\n",
       "    .dataframe tbody tr th:only-of-type {\n",
       "        vertical-align: middle;\n",
       "    }\n",
       "\n",
       "    .dataframe tbody tr th {\n",
       "        vertical-align: top;\n",
       "    }\n",
       "\n",
       "    .dataframe thead th {\n",
       "        text-align: right;\n",
       "    }\n",
       "</style>\n",
       "<table border=\"1\" class=\"dataframe\">\n",
       "  <thead>\n",
       "    <tr style=\"text-align: right;\">\n",
       "      <th></th>\n",
       "      <th>matchId</th>\n",
       "      <th>in_top_300</th>\n",
       "      <th>dataVersion</th>\n",
       "      <th>participants</th>\n",
       "      <th>gameCreation</th>\n",
       "      <th>gameDuration</th>\n",
       "      <th>gameEndTimestamp</th>\n",
       "      <th>gameId</th>\n",
       "      <th>gameMode</th>\n",
       "      <th>gameName</th>\n",
       "      <th>...</th>\n",
       "      <th>participant_9_avg_trueDamageTaken</th>\n",
       "      <th>participant_9_avg_turretKills</th>\n",
       "      <th>participant_9_avg_turretTakedowns</th>\n",
       "      <th>participant_9_avg_turretsLost</th>\n",
       "      <th>participant_9_avg_unrealKills</th>\n",
       "      <th>participant_9_avg_visionScore</th>\n",
       "      <th>participant_9_avg_visionWardsBoughtInGame</th>\n",
       "      <th>participant_9_avg_wardsKilled</th>\n",
       "      <th>participant_9_avg_wardsPlaced</th>\n",
       "      <th>participant_9_avg_win</th>\n",
       "    </tr>\n",
       "  </thead>\n",
       "  <tbody>\n",
       "    <tr>\n",
       "      <th>0</th>\n",
       "      <td>NA1_4287589467</td>\n",
       "      <td>True</td>\n",
       "      <td>2</td>\n",
       "      <td>['4n6VLbg0pk_cueIdBdSBhlzIeg7m7G8fj8VfcI8P9EZQ...</td>\n",
       "      <td>1650843457000</td>\n",
       "      <td>1394</td>\n",
       "      <td>1.650845e+12</td>\n",
       "      <td>4287589467</td>\n",
       "      <td>CLASSIC</td>\n",
       "      <td>teambuilder-match-4287589467</td>\n",
       "      <td>...</td>\n",
       "      <td>774.45</td>\n",
       "      <td>0.20</td>\n",
       "      <td>1.30</td>\n",
       "      <td>5.40</td>\n",
       "      <td>0.0</td>\n",
       "      <td>51.55</td>\n",
       "      <td>6.05</td>\n",
       "      <td>6.65</td>\n",
       "      <td>26.10</td>\n",
       "      <td>0.35</td>\n",
       "    </tr>\n",
       "    <tr>\n",
       "      <th>1</th>\n",
       "      <td>NA1_4300589612</td>\n",
       "      <td>True</td>\n",
       "      <td>2</td>\n",
       "      <td>['kHdmjAwa4O8cxIuEX9KWTLO2NQhpG7mRjHReJDy1Ya21...</td>\n",
       "      <td>1651978505000</td>\n",
       "      <td>1566</td>\n",
       "      <td>1.651980e+12</td>\n",
       "      <td>4300589612</td>\n",
       "      <td>CLASSIC</td>\n",
       "      <td>teambuilder-match-4300589612</td>\n",
       "      <td>...</td>\n",
       "      <td>749.60</td>\n",
       "      <td>0.45</td>\n",
       "      <td>1.30</td>\n",
       "      <td>5.40</td>\n",
       "      <td>0.0</td>\n",
       "      <td>49.60</td>\n",
       "      <td>6.90</td>\n",
       "      <td>5.70</td>\n",
       "      <td>26.35</td>\n",
       "      <td>0.45</td>\n",
       "    </tr>\n",
       "    <tr>\n",
       "      <th>2</th>\n",
       "      <td>NA1_4290881794</td>\n",
       "      <td>True</td>\n",
       "      <td>2</td>\n",
       "      <td>['cnwEcRHSgzqksmNOr3BYJWFOvQmRo9JndCbZtmGGkxXy...</td>\n",
       "      <td>1651113065000</td>\n",
       "      <td>1237</td>\n",
       "      <td>1.651114e+12</td>\n",
       "      <td>4290881794</td>\n",
       "      <td>CLASSIC</td>\n",
       "      <td>teambuilder-match-4290881794</td>\n",
       "      <td>...</td>\n",
       "      <td>749.60</td>\n",
       "      <td>0.45</td>\n",
       "      <td>1.30</td>\n",
       "      <td>5.40</td>\n",
       "      <td>0.0</td>\n",
       "      <td>49.60</td>\n",
       "      <td>6.90</td>\n",
       "      <td>5.70</td>\n",
       "      <td>26.35</td>\n",
       "      <td>0.45</td>\n",
       "    </tr>\n",
       "    <tr>\n",
       "      <th>3</th>\n",
       "      <td>NA1_4292866609</td>\n",
       "      <td>True</td>\n",
       "      <td>2</td>\n",
       "      <td>['xNrMpJ3lnm38urzuG0Dlp6VhEOhhjYWUTmrhLJVb2uwG...</td>\n",
       "      <td>1651287550000</td>\n",
       "      <td>1979</td>\n",
       "      <td>1.651290e+12</td>\n",
       "      <td>4292866609</td>\n",
       "      <td>CLASSIC</td>\n",
       "      <td>teambuilder-match-4292866609</td>\n",
       "      <td>...</td>\n",
       "      <td>479.10</td>\n",
       "      <td>0.55</td>\n",
       "      <td>1.70</td>\n",
       "      <td>4.65</td>\n",
       "      <td>0.0</td>\n",
       "      <td>29.45</td>\n",
       "      <td>0.90</td>\n",
       "      <td>2.75</td>\n",
       "      <td>15.30</td>\n",
       "      <td>0.35</td>\n",
       "    </tr>\n",
       "    <tr>\n",
       "      <th>4</th>\n",
       "      <td>NA1_4293694040</td>\n",
       "      <td>True</td>\n",
       "      <td>2</td>\n",
       "      <td>['hco4DhxnUnErXbsgjwKNQmbZdgyE9Bvrt_vPBx_nzMwQ...</td>\n",
       "      <td>1651366976000</td>\n",
       "      <td>1122</td>\n",
       "      <td>1.651368e+12</td>\n",
       "      <td>4293694040</td>\n",
       "      <td>CLASSIC</td>\n",
       "      <td>teambuilder-match-4293694040</td>\n",
       "      <td>...</td>\n",
       "      <td>926.75</td>\n",
       "      <td>0.85</td>\n",
       "      <td>3.45</td>\n",
       "      <td>4.40</td>\n",
       "      <td>0.0</td>\n",
       "      <td>34.60</td>\n",
       "      <td>0.00</td>\n",
       "      <td>4.75</td>\n",
       "      <td>18.25</td>\n",
       "      <td>0.70</td>\n",
       "    </tr>\n",
       "    <tr>\n",
       "      <th>...</th>\n",
       "      <td>...</td>\n",
       "      <td>...</td>\n",
       "      <td>...</td>\n",
       "      <td>...</td>\n",
       "      <td>...</td>\n",
       "      <td>...</td>\n",
       "      <td>...</td>\n",
       "      <td>...</td>\n",
       "      <td>...</td>\n",
       "      <td>...</td>\n",
       "      <td>...</td>\n",
       "      <td>...</td>\n",
       "      <td>...</td>\n",
       "      <td>...</td>\n",
       "      <td>...</td>\n",
       "      <td>...</td>\n",
       "      <td>...</td>\n",
       "      <td>...</td>\n",
       "      <td>...</td>\n",
       "      <td>...</td>\n",
       "      <td>...</td>\n",
       "    </tr>\n",
       "    <tr>\n",
       "      <th>5995</th>\n",
       "      <td>NA1_4290710811</td>\n",
       "      <td>True</td>\n",
       "      <td>2</td>\n",
       "      <td>['iQnZWXbLW3L3zoqTqxnbkOMc3N-kiMwpN5OB-t12xUv_...</td>\n",
       "      <td>1651100971000</td>\n",
       "      <td>1976</td>\n",
       "      <td>1.651103e+12</td>\n",
       "      <td>4290710811</td>\n",
       "      <td>CLASSIC</td>\n",
       "      <td>teambuilder-match-4290710811</td>\n",
       "      <td>...</td>\n",
       "      <td>967.65</td>\n",
       "      <td>0.10</td>\n",
       "      <td>0.90</td>\n",
       "      <td>3.65</td>\n",
       "      <td>0.0</td>\n",
       "      <td>63.30</td>\n",
       "      <td>7.95</td>\n",
       "      <td>8.20</td>\n",
       "      <td>32.50</td>\n",
       "      <td>0.65</td>\n",
       "    </tr>\n",
       "    <tr>\n",
       "      <th>5996</th>\n",
       "      <td>NA1_4301905858</td>\n",
       "      <td>True</td>\n",
       "      <td>2</td>\n",
       "      <td>['8s6pxbye--5Zv2JQbaUdZcBUTuVpmmXjHmKS7NYwm5W0...</td>\n",
       "      <td>1652109034000</td>\n",
       "      <td>1186</td>\n",
       "      <td>1.652110e+12</td>\n",
       "      <td>4301905858</td>\n",
       "      <td>CLASSIC</td>\n",
       "      <td>teambuilder-match-4301905858</td>\n",
       "      <td>...</td>\n",
       "      <td>1004.85</td>\n",
       "      <td>1.60</td>\n",
       "      <td>3.65</td>\n",
       "      <td>4.75</td>\n",
       "      <td>0.0</td>\n",
       "      <td>38.80</td>\n",
       "      <td>2.25</td>\n",
       "      <td>5.05</td>\n",
       "      <td>16.45</td>\n",
       "      <td>0.65</td>\n",
       "    </tr>\n",
       "    <tr>\n",
       "      <th>5997</th>\n",
       "      <td>NA1_4291343121</td>\n",
       "      <td>True</td>\n",
       "      <td>2</td>\n",
       "      <td>['a_uG5h8HP90jmv8v2EE5vcXHeTIOTJ7YXZwbtqjCT0-7...</td>\n",
       "      <td>1651167291000</td>\n",
       "      <td>1780</td>\n",
       "      <td>1.651169e+12</td>\n",
       "      <td>4291343121</td>\n",
       "      <td>CLASSIC</td>\n",
       "      <td>teambuilder-match-4291343121</td>\n",
       "      <td>...</td>\n",
       "      <td>2089.35</td>\n",
       "      <td>2.55</td>\n",
       "      <td>3.90</td>\n",
       "      <td>4.55</td>\n",
       "      <td>0.0</td>\n",
       "      <td>13.15</td>\n",
       "      <td>0.65</td>\n",
       "      <td>2.20</td>\n",
       "      <td>5.55</td>\n",
       "      <td>0.60</td>\n",
       "    </tr>\n",
       "    <tr>\n",
       "      <th>5998</th>\n",
       "      <td>NA1_4291276662</td>\n",
       "      <td>True</td>\n",
       "      <td>2</td>\n",
       "      <td>['nGQtB-zBd2lvzEOC7uDViJq1Y8CWgj3lHOwQSe7iR9Y3...</td>\n",
       "      <td>1651161277000</td>\n",
       "      <td>1265</td>\n",
       "      <td>1.651163e+12</td>\n",
       "      <td>4291276662</td>\n",
       "      <td>CLASSIC</td>\n",
       "      <td>teambuilder-match-4291276662</td>\n",
       "      <td>...</td>\n",
       "      <td>757.60</td>\n",
       "      <td>2.25</td>\n",
       "      <td>3.65</td>\n",
       "      <td>4.95</td>\n",
       "      <td>0.0</td>\n",
       "      <td>20.75</td>\n",
       "      <td>2.25</td>\n",
       "      <td>5.40</td>\n",
       "      <td>8.65</td>\n",
       "      <td>0.65</td>\n",
       "    </tr>\n",
       "    <tr>\n",
       "      <th>5999</th>\n",
       "      <td>NA1_4291551432</td>\n",
       "      <td>True</td>\n",
       "      <td>2</td>\n",
       "      <td>['MXNd4aGpUu2S_RcE-U7Wp4YbsQX5WLwhm5dpP5hESy0k...</td>\n",
       "      <td>1651189392000</td>\n",
       "      <td>936</td>\n",
       "      <td>1.651190e+12</td>\n",
       "      <td>4291551432</td>\n",
       "      <td>CLASSIC</td>\n",
       "      <td>teambuilder-match-4291551432</td>\n",
       "      <td>...</td>\n",
       "      <td>749.60</td>\n",
       "      <td>0.45</td>\n",
       "      <td>1.30</td>\n",
       "      <td>5.40</td>\n",
       "      <td>0.0</td>\n",
       "      <td>49.60</td>\n",
       "      <td>6.90</td>\n",
       "      <td>5.70</td>\n",
       "      <td>26.35</td>\n",
       "      <td>0.45</td>\n",
       "    </tr>\n",
       "  </tbody>\n",
       "</table>\n",
       "<p>6000 rows × 869 columns</p>\n",
       "</div>"
      ],
      "text/plain": [
       "             matchId  in_top_300  dataVersion  \\\n",
       "0     NA1_4287589467        True            2   \n",
       "1     NA1_4300589612        True            2   \n",
       "2     NA1_4290881794        True            2   \n",
       "3     NA1_4292866609        True            2   \n",
       "4     NA1_4293694040        True            2   \n",
       "...              ...         ...          ...   \n",
       "5995  NA1_4290710811        True            2   \n",
       "5996  NA1_4301905858        True            2   \n",
       "5997  NA1_4291343121        True            2   \n",
       "5998  NA1_4291276662        True            2   \n",
       "5999  NA1_4291551432        True            2   \n",
       "\n",
       "                                           participants   gameCreation  \\\n",
       "0     ['4n6VLbg0pk_cueIdBdSBhlzIeg7m7G8fj8VfcI8P9EZQ...  1650843457000   \n",
       "1     ['kHdmjAwa4O8cxIuEX9KWTLO2NQhpG7mRjHReJDy1Ya21...  1651978505000   \n",
       "2     ['cnwEcRHSgzqksmNOr3BYJWFOvQmRo9JndCbZtmGGkxXy...  1651113065000   \n",
       "3     ['xNrMpJ3lnm38urzuG0Dlp6VhEOhhjYWUTmrhLJVb2uwG...  1651287550000   \n",
       "4     ['hco4DhxnUnErXbsgjwKNQmbZdgyE9Bvrt_vPBx_nzMwQ...  1651366976000   \n",
       "...                                                 ...            ...   \n",
       "5995  ['iQnZWXbLW3L3zoqTqxnbkOMc3N-kiMwpN5OB-t12xUv_...  1651100971000   \n",
       "5996  ['8s6pxbye--5Zv2JQbaUdZcBUTuVpmmXjHmKS7NYwm5W0...  1652109034000   \n",
       "5997  ['a_uG5h8HP90jmv8v2EE5vcXHeTIOTJ7YXZwbtqjCT0-7...  1651167291000   \n",
       "5998  ['nGQtB-zBd2lvzEOC7uDViJq1Y8CWgj3lHOwQSe7iR9Y3...  1651161277000   \n",
       "5999  ['MXNd4aGpUu2S_RcE-U7Wp4YbsQX5WLwhm5dpP5hESy0k...  1651189392000   \n",
       "\n",
       "      gameDuration  gameEndTimestamp      gameId gameMode  \\\n",
       "0             1394      1.650845e+12  4287589467  CLASSIC   \n",
       "1             1566      1.651980e+12  4300589612  CLASSIC   \n",
       "2             1237      1.651114e+12  4290881794  CLASSIC   \n",
       "3             1979      1.651290e+12  4292866609  CLASSIC   \n",
       "4             1122      1.651368e+12  4293694040  CLASSIC   \n",
       "...            ...               ...         ...      ...   \n",
       "5995          1976      1.651103e+12  4290710811  CLASSIC   \n",
       "5996          1186      1.652110e+12  4301905858  CLASSIC   \n",
       "5997          1780      1.651169e+12  4291343121  CLASSIC   \n",
       "5998          1265      1.651163e+12  4291276662  CLASSIC   \n",
       "5999           936      1.651190e+12  4291551432  CLASSIC   \n",
       "\n",
       "                          gameName  ...  participant_9_avg_trueDamageTaken  \\\n",
       "0     teambuilder-match-4287589467  ...                             774.45   \n",
       "1     teambuilder-match-4300589612  ...                             749.60   \n",
       "2     teambuilder-match-4290881794  ...                             749.60   \n",
       "3     teambuilder-match-4292866609  ...                             479.10   \n",
       "4     teambuilder-match-4293694040  ...                             926.75   \n",
       "...                            ...  ...                                ...   \n",
       "5995  teambuilder-match-4290710811  ...                             967.65   \n",
       "5996  teambuilder-match-4301905858  ...                            1004.85   \n",
       "5997  teambuilder-match-4291343121  ...                            2089.35   \n",
       "5998  teambuilder-match-4291276662  ...                             757.60   \n",
       "5999  teambuilder-match-4291551432  ...                             749.60   \n",
       "\n",
       "     participant_9_avg_turretKills participant_9_avg_turretTakedowns  \\\n",
       "0                             0.20                              1.30   \n",
       "1                             0.45                              1.30   \n",
       "2                             0.45                              1.30   \n",
       "3                             0.55                              1.70   \n",
       "4                             0.85                              3.45   \n",
       "...                            ...                               ...   \n",
       "5995                          0.10                              0.90   \n",
       "5996                          1.60                              3.65   \n",
       "5997                          2.55                              3.90   \n",
       "5998                          2.25                              3.65   \n",
       "5999                          0.45                              1.30   \n",
       "\n",
       "      participant_9_avg_turretsLost participant_9_avg_unrealKills  \\\n",
       "0                              5.40                           0.0   \n",
       "1                              5.40                           0.0   \n",
       "2                              5.40                           0.0   \n",
       "3                              4.65                           0.0   \n",
       "4                              4.40                           0.0   \n",
       "...                             ...                           ...   \n",
       "5995                           3.65                           0.0   \n",
       "5996                           4.75                           0.0   \n",
       "5997                           4.55                           0.0   \n",
       "5998                           4.95                           0.0   \n",
       "5999                           5.40                           0.0   \n",
       "\n",
       "      participant_9_avg_visionScore  \\\n",
       "0                             51.55   \n",
       "1                             49.60   \n",
       "2                             49.60   \n",
       "3                             29.45   \n",
       "4                             34.60   \n",
       "...                             ...   \n",
       "5995                          63.30   \n",
       "5996                          38.80   \n",
       "5997                          13.15   \n",
       "5998                          20.75   \n",
       "5999                          49.60   \n",
       "\n",
       "      participant_9_avg_visionWardsBoughtInGame  \\\n",
       "0                                          6.05   \n",
       "1                                          6.90   \n",
       "2                                          6.90   \n",
       "3                                          0.90   \n",
       "4                                          0.00   \n",
       "...                                         ...   \n",
       "5995                                       7.95   \n",
       "5996                                       2.25   \n",
       "5997                                       0.65   \n",
       "5998                                       2.25   \n",
       "5999                                       6.90   \n",
       "\n",
       "      participant_9_avg_wardsKilled  participant_9_avg_wardsPlaced  \\\n",
       "0                              6.65                          26.10   \n",
       "1                              5.70                          26.35   \n",
       "2                              5.70                          26.35   \n",
       "3                              2.75                          15.30   \n",
       "4                              4.75                          18.25   \n",
       "...                             ...                            ...   \n",
       "5995                           8.20                          32.50   \n",
       "5996                           5.05                          16.45   \n",
       "5997                           2.20                           5.55   \n",
       "5998                           5.40                           8.65   \n",
       "5999                           5.70                          26.35   \n",
       "\n",
       "      participant_9_avg_win  \n",
       "0                      0.35  \n",
       "1                      0.45  \n",
       "2                      0.45  \n",
       "3                      0.35  \n",
       "4                      0.70  \n",
       "...                     ...  \n",
       "5995                   0.65  \n",
       "5996                   0.65  \n",
       "5997                   0.60  \n",
       "5998                   0.65  \n",
       "5999                   0.45  \n",
       "\n",
       "[6000 rows x 869 columns]"
      ]
     },
     "execution_count": 44,
     "metadata": {},
     "output_type": "execute_result"
    }
   ],
   "source": [
    "df = pd.read_csv(data_path); df"
   ]
  },
  {
   "cell_type": "markdown",
   "id": "b4ab4cb6-8559-4391-bd6a-a0e28eaaa3a4",
   "metadata": {},
   "source": [
    "# Drop non-numeric columns"
   ]
  },
  {
   "cell_type": "code",
   "execution_count": 45,
   "id": "8994471d-ac46-45ed-b344-e7272004cb93",
   "metadata": {},
   "outputs": [
    {
     "data": {
      "text/plain": [
       "array([dtype('O'), dtype('bool'), dtype('int64'), dtype('float64')],\n",
       "      dtype=object)"
      ]
     },
     "execution_count": 45,
     "metadata": {},
     "output_type": "execute_result"
    }
   ],
   "source": [
    "df.dtypes.unique()"
   ]
  },
  {
   "cell_type": "code",
   "execution_count": 46,
   "id": "46b86e10-1aef-40fb-bb04-68a901138676",
   "metadata": {},
   "outputs": [
    {
     "name": "stdout",
     "output_type": "stream",
     "text": [
      "matchId: object\n",
      "in_top_300: bool\n",
      "participants: object\n",
      "gameMode: object\n",
      "gameName: object\n",
      "gameType: object\n",
      "gameVersion: object\n",
      "platformId: object\n"
     ]
    }
   ],
   "source": [
    "# for col in df.columns:\n",
    "#     print(col)\n",
    "for col_name, col_dtype in zip(df.columns, df.dtypes):\n",
    "    if col_dtype == 'object' or col_dtype == 'bool':\n",
    "        print(f'{col_name}: {col_dtype}')"
   ]
  },
  {
   "cell_type": "code",
   "execution_count": 47,
   "id": "c80920b1-78df-43aa-863e-d9fe07a4c6bb",
   "metadata": {},
   "outputs": [],
   "source": [
    "ml_drop_cols = ['in_top_300','matchId', 'dataVersion', 'participants', 'gameCreation', 'gameDuration', 'gameEndTimestamp', 'gameId', 'gameMode', 'gameName', 'gameStartTimestamp', 'gameType', 'gameVersion', 'mapId', 'platformId', 'queueId', 'tournamentCode']           "
   ]
  },
  {
   "cell_type": "code",
   "execution_count": 48,
   "id": "e4b60453-ee9b-4aaa-987d-f9e93eb2e734",
   "metadata": {},
   "outputs": [
    {
     "data": {
      "text/plain": [
       "team_won                                       int64\n",
       "num_participants                               int64\n",
       "participant_0_avg_assists                    float64\n",
       "participant_0_avg_baronKills                 float64\n",
       "participant_0_avg_bountyLevel                float64\n",
       "                                              ...   \n",
       "participant_9_avg_visionScore                float64\n",
       "participant_9_avg_visionWardsBoughtInGame    float64\n",
       "participant_9_avg_wardsKilled                float64\n",
       "participant_9_avg_wardsPlaced                float64\n",
       "participant_9_avg_win                        float64\n",
       "Length: 852, dtype: object"
      ]
     },
     "execution_count": 48,
     "metadata": {},
     "output_type": "execute_result"
    }
   ],
   "source": [
    "df_dropped = df.drop(columns=ml_drop_cols)\n",
    "df_dropped.dtypes"
   ]
  },
  {
   "cell_type": "markdown",
   "id": "c253966c-8e12-4d7d-897f-d47037837c82",
   "metadata": {},
   "source": [
    "# Train/Test Split"
   ]
  },
  {
   "cell_type": "code",
   "execution_count": 49,
   "id": "89bb6faf-9b10-47dd-9b40-03b3b0f057f7",
   "metadata": {},
   "outputs": [],
   "source": [
    "feature_cols = [col for col in df_dropped.columns if col != 'team_won']\n",
    "target_cols = ['team_won']"
   ]
  },
  {
   "cell_type": "code",
   "execution_count": 63,
   "id": "6f777ffd-d1ee-4734-87ba-2eb234fff4ee",
   "metadata": {},
   "outputs": [
    {
     "data": {
      "text/plain": [
       "((6000, 851), (6000, 1))"
      ]
     },
     "execution_count": 63,
     "metadata": {},
     "output_type": "execute_result"
    }
   ],
   "source": [
    "X = df_dropped.loc[:, feature_cols].values\n",
    "y = df_dropped.loc[:, target_cols].values\n",
    "X.shape, y.shape"
   ]
  },
  {
   "cell_type": "markdown",
   "id": "daf8ebf5-e2cf-4eee-a96d-326bd47a893b",
   "metadata": {},
   "source": [
    "# Encode y\n",
    "y == 1 means that team 2(id=200) won\n",
    "y == 0 means that team 1(id=100) won"
   ]
  },
  {
   "cell_type": "code",
   "execution_count": 71,
   "id": "a5fe9d3c-3be2-4708-a80d-e46844d152a3",
   "metadata": {},
   "outputs": [],
   "source": [
    "y[y == 200] = 1\n",
    "y[y == 100] = 0"
   ]
  },
  {
   "cell_type": "code",
   "execution_count": 72,
   "id": "49be2fad-8e2c-4c63-bc02-77b996789efd",
   "metadata": {},
   "outputs": [
    {
     "data": {
      "text/plain": [
       "array([[1],\n",
       "       [0],\n",
       "       [1],\n",
       "       ...,\n",
       "       [0],\n",
       "       [0],\n",
       "       [0]])"
      ]
     },
     "execution_count": 72,
     "metadata": {},
     "output_type": "execute_result"
    }
   ],
   "source": [
    "y"
   ]
  },
  {
   "cell_type": "markdown",
   "id": "c3be7b2a-541a-4fe7-9aad-ff67790658f6",
   "metadata": {},
   "source": [
    "### Scale Features"
   ]
  },
  {
   "cell_type": "code",
   "execution_count": 73,
   "id": "8cbc13f8-16bf-4697-83d8-a5f77cd09500",
   "metadata": {},
   "outputs": [
    {
     "data": {
      "text/plain": [
       "array([[ 0.        , -0.21829643, -0.13105202, ...,  0.34409883,\n",
       "         0.46980269, -1.3492826 ],\n",
       "       [ 0.        , -0.54140603,  0.57563951, ..., -0.11790754,\n",
       "         0.49692311, -0.5777251 ],\n",
       "       [ 0.        , -0.63833891, -0.83774355, ..., -0.11790754,\n",
       "         0.49692311, -0.5777251 ],\n",
       "       ...,\n",
       "       [ 0.        ,  2.07578169, -0.13105202, ..., -1.82003625,\n",
       "        -1.75949525,  0.57961113],\n",
       "       [ 0.        ,  0.75103235, -0.13105202, ..., -0.26380428,\n",
       "        -1.42320213,  0.96538988],\n",
       "       [ 0.        , -0.73527178, -0.13105202, ..., -0.11790754,\n",
       "         0.49692311, -0.5777251 ]])"
      ]
     },
     "execution_count": 73,
     "metadata": {},
     "output_type": "execute_result"
    }
   ],
   "source": [
    "from sklearn.preprocessing import StandardScaler\n",
    "scaler = StandardScaler()\n",
    "X = scaler.fit_transform(X)\n",
    "X"
   ]
  },
  {
   "cell_type": "code",
   "execution_count": 74,
   "id": "31b3ec48-5805-41dd-8b96-cbea2b542671",
   "metadata": {},
   "outputs": [
    {
     "data": {
      "text/plain": [
       "((4800, 851), (1200, 851), (4800, 1), (1200, 1))"
      ]
     },
     "execution_count": 74,
     "metadata": {},
     "output_type": "execute_result"
    }
   ],
   "source": [
    "X_train, X_test, y_train, y_test = train_test_split(X, y, test_size=0.2, random_state=42)\n",
    "X_train.shape, X_test.shape, y_train.shape, y_test.shape"
   ]
  },
  {
   "cell_type": "markdown",
   "id": "c76d7886-09e9-492c-bbc5-d9b6c1646d12",
   "metadata": {},
   "source": [
    "# Non-NeuralNet models"
   ]
  },
  {
   "cell_type": "code",
   "execution_count": 75,
   "id": "79f6f3b1-0e86-470f-93eb-b68a834cfeac",
   "metadata": {},
   "outputs": [],
   "source": [
    "y_train_flat = y_train.ravel()\n",
    "y_test_flat = y_test.ravel()"
   ]
  },
  {
   "cell_type": "code",
   "execution_count": 81,
   "id": "48e7ff59-d697-4c76-9b4a-225f72a87322",
   "metadata": {},
   "outputs": [],
   "source": [
    "from sklearn.linear_model import LogisticRegression\n",
    "from sklearn.neighbors import KNeighborsClassifier\n",
    "from sklearn.tree import DecisionTreeClassifier\n",
    "from sklearn.ensemble import RandomForestClassifier, AdaBoostClassifier\n",
    "from sklearn.metrics import accuracy_score\n",
    "models = [\n",
    "    LogisticRegression(),\n",
    "    KNeighborsClassifier(n_neighbors=3),\n",
    "    DecisionTreeClassifier(),\n",
    "    RandomForestClassifier(),\n",
    "    AdaBoostClassifier() \n",
    "]"
   ]
  },
  {
   "cell_type": "code",
   "execution_count": 83,
   "id": "7196272c-9013-408a-a801-1c5702374c4c",
   "metadata": {},
   "outputs": [
    {
     "name": "stderr",
     "output_type": "stream",
     "text": [
      "/Users/josephriva/.mambaforge/envs/cs445/lib/python3.8/site-packages/sklearn/linear_model/_logistic.py:814: ConvergenceWarning: lbfgs failed to converge (status=1):\n",
      "STOP: TOTAL NO. of ITERATIONS REACHED LIMIT.\n",
      "\n",
      "Increase the number of iterations (max_iter) or scale the data as shown in:\n",
      "    https://scikit-learn.org/stable/modules/preprocessing.html\n",
      "Please also refer to the documentation for alternative solver options:\n",
      "    https://scikit-learn.org/stable/modules/linear_model.html#logistic-regression\n",
      "  n_iter_i = _check_optimize_result(\n"
     ]
    },
    {
     "name": "stdout",
     "output_type": "stream",
     "text": [
      "[0 0 0 ... 0 0 1]\n",
      "LogisticRegression() got a test accuracy of 0.74500\n",
      "[0 0 0 ... 0 0 1]\n",
      "KNeighborsClassifier(n_neighbors=3) got a test accuracy of 0.77083\n",
      "[1 0 0 ... 0 0 0]\n",
      "DecisionTreeClassifier() got a test accuracy of 0.82333\n",
      "[0 0 0 ... 0 0 0]\n",
      "RandomForestClassifier() got a test accuracy of 0.84250\n",
      "[1 0 0 ... 0 0 1]\n",
      "AdaBoostClassifier() got a test accuracy of 0.69667\n"
     ]
    }
   ],
   "source": [
    "for classifier in models:  \n",
    "    classifier.fit(X_train, y_train_flat)\n",
    "    preds = classifier.predict(X_test)\n",
    "    print(preds)\n",
    "    score = accuracy_score(preds, y_test_flat)\n",
    "    print(f'{classifier} got a test accuracy of {score:.5f}')"
   ]
  },
  {
   "cell_type": "code",
   "execution_count": null,
   "id": "01f1fcaa-cd57-4370-94cb-05b2d1127807",
   "metadata": {},
   "outputs": [],
   "source": []
  }
 ],
 "metadata": {
  "kernelspec": {
   "display_name": "Python 3 (ipykernel)",
   "language": "python",
   "name": "python3"
  },
  "language_info": {
   "codemirror_mode": {
    "name": "ipython",
    "version": 3
   },
   "file_extension": ".py",
   "mimetype": "text/x-python",
   "name": "python",
   "nbconvert_exporter": "python",
   "pygments_lexer": "ipython3",
   "version": "3.8.12"
  }
 },
 "nbformat": 4,
 "nbformat_minor": 5
}
