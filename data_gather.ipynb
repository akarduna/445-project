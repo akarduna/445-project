{
 "cells": [
  {
   "cell_type": "code",
   "execution_count": 1,
   "metadata": {},
   "outputs": [],
   "source": [
    "import requests\n",
    "import json\n",
    "import os"
   ]
  },
  {
   "cell_type": "code",
   "execution_count": 2,
   "metadata": {},
   "outputs": [],
   "source": [
    "api_key = \"RGAPI-fb98e73c-8e20-47e7-8b53-c240bf3d81d1\""
   ]
  },
  {
   "cell_type": "code",
   "execution_count": 3,
   "metadata": {},
   "outputs": [],
   "source": [
    "end_point = \"league/v4/challengerleagues/by-queue/RANKED_SOLO_5x5\""
   ]
  },
  {
   "cell_type": "code",
   "execution_count": 4,
   "metadata": {},
   "outputs": [
    {
     "name": "stdout",
     "output_type": "stream",
     "text": [
      "<Response [200]>\n"
     ]
    }
   ],
   "source": [
    "url = \"https://na1.api.riotgames.com/lol/\"+ end_point +\"?api_key=\" + api_key\n",
    "x = requests.get(url)\n",
    "print(x)"
   ]
  },
  {
   "cell_type": "code",
   "execution_count": 5,
   "metadata": {},
   "outputs": [
    {
     "name": "stdout",
     "output_type": "stream",
     "text": [
      "{'summonerId': 'Dx3olRPccR2fQ-1Vk5n6fQuuThmzli3Gl75mcDb9xunbB8w', 'summonerName': 'from mcdonald', 'leaguePoints': 1766, 'rank': 'I', 'wins': 177, 'losses': 116, 'veteran': True, 'inactive': False, 'freshBlood': False, 'hotStreak': True}\n"
     ]
    }
   ],
   "source": [
    "json_object = json.loads(x.text)\n",
    "\n",
    "json_formatted_str = json.dumps(json_object, indent=2)\n",
    "players = json_object[\"entries\"]\n",
    "print((players[0]))\n",
    "sorted_players = sorted(players, key=lambda k: k['leaguePoints'])\n",
    "    "
   ]
  },
  {
   "cell_type": "code",
   "execution_count": 11,
   "metadata": {},
   "outputs": [],
   "source": [
    "def get_games(summonerName):\n",
    "    end_point = \"/lol/summoner/v4/summoners/by-name/\"+(summonerName).replace(\" \", \"%20\")\n",
    "    url = \"https://na1.api.riotgames.com\"+ end_point +\"?api_key=\" + api_key\n",
    "    x = requests.get(url)\n",
    "    json_object = json.loads(x.text)\n",
    "    \n",
    "    puuid = json_object[\"puuid\"]\n",
    "    data_path = f'data/{puuid}'\n",
    "    if not os.path.exists(data_path):\n",
    "        os.makedirs(data_path)\n",
    "        \n",
    "    num_matches = 5\n",
    "    match_end = f\"/lol/match/v5/matches/by-puuid/{puuid}/ids?start=0&count={num_matches}&\"\n",
    "    url = \"https://americas.api.riotgames.com\"+ match_end +\"api_key=\" + api_key\n",
    "    x = requests.get(url)\n",
    "    print(url, x)\n",
    "    matchIds = x.json()\n",
    "    for matchId in matchIds:\n",
    "        #print(matchIds)\n",
    "        match = f\"/lol/match/v5/matches/{matchId}\"\n",
    "        url = \"https://americas.api.riotgames.com\"+ match +\"?api_key=\" + api_key\n",
    "        match_request = requests.get(url)\n",
    "        player_path = f'{data_path}/{matchId}'\n",
    "        if not os.path.exists(player_path):\n",
    "            os.makedirs(player_path)\n",
    "        with open(data_path + \"/\" + matchId +\".json\", 'w') as js:\n",
    "            json.dump(match_request.json(), js)\n",
    "    # for player in participants:\n",
    "    #     player_end_point = '/lol/summoner/v4/summoners/by-puuid/'+player\n",
    "    #     url = \"https://na1.api.riotgames.com\"+ player_end_point +\"?api_key=\" + api_key\n",
    "    #     x =requests.get(url)\n",
    "    #     print(x.json()[\"name\"])"
   ]
  },
  {
   "cell_type": "code",
   "execution_count": 12,
   "metadata": {},
   "outputs": [
    {
     "name": "stdout",
     "output_type": "stream",
     "text": [
      "https://americas.api.riotgames.com/lol/match/v5/matches/by-puuid/TQ6ASY2J-F_sMOolYNd7FRh8AUsqfHEiBvpwRHrdOxnJoi8mLQJdquOo-Lg1XpEhCyLAt_PTb2UHuQ/ids?start=0&count=5&api_key=RGAPI-fb98e73c-8e20-47e7-8b53-c240bf3d81d1 <Response [200]>\n"
     ]
    }
   ],
   "source": [
    "get_games(sorted_players[0][\"summonerName\"])"
   ]
  },
  {
   "cell_type": "code",
   "execution_count": null,
   "metadata": {},
   "outputs": [],
   "source": [
    "end_point = \"/lol/summoner/v4/summoners/by-name/\"+(sorted_players[299][\"summonerName\"]).replace(\" \", \"%20\")\n",
    "url = \"https://na1.api.riotgames.com\"+ end_point +\"?api_key=\" + api_key\n",
    "x = requests.get(url)\n",
    "json_object = json.loads(x.text)\n",
    "puuid = json_object[\"puuid\"]\n",
    "match_end = f\"/lol/match/v5/matches/by-puuid/{puuid}/ids\"\n",
    "url = \"https://americas.api.riotgames.com\"+ match_end +\"?api_key=\" + api_key\n",
    "x = requests.get(url)\n",
    "matchId = x.json()[2]\n",
    "match = f\"/lol/match/v5/matches/{matchId}\"\n",
    "url = \"https://americas.api.riotgames.com\"+ match +\"?api_key=\" + api_key\n",
    "match_request = requests.get(url)"
   ]
  },
  {
   "cell_type": "code",
   "execution_count": null,
   "metadata": {},
   "outputs": [
    {
     "name": "stdout",
     "output_type": "stream",
     "text": [
      "False\n"
     ]
    }
   ],
   "source": [
    "match_obj = match_request.json()\n",
    "player_num = -1\n",
    "for player in range(len(match_obj['metadata']['participants'])):\n",
    "    if match_obj['metadata']['participants'][player] == puuid:\n",
    "        player_num = player\n",
    "print(match_request.json()['info']['participants'][player]['win'])"
   ]
  },
  {
   "cell_type": "code",
   "execution_count": 71,
   "metadata": {},
   "outputs": [
    {
     "name": "stdout",
     "output_type": "stream",
     "text": [
      "NA1_4290593298\n"
     ]
    }
   ],
   "source": [
    "print(x.json()[0])"
   ]
  },
  {
   "cell_type": "code",
   "execution_count": null,
   "metadata": {},
   "outputs": [],
   "source": []
  }
 ],
 "metadata": {
  "interpreter": {
   "hash": "638e4f34b1ef7ba0cca28659d45c1fe0ffd169497502b8f30fb11c1c1736a4c9"
  },
  "kernelspec": {
   "display_name": "Python 3 (ipykernel)",
   "language": "python",
   "name": "python3"
  },
  "language_info": {
   "codemirror_mode": {
    "name": "ipython",
    "version": 3
   },
   "file_extension": ".py",
   "mimetype": "text/x-python",
   "name": "python",
   "nbconvert_exporter": "python",
   "pygments_lexer": "ipython3",
   "version": "3.8.12"
  }
 },
 "nbformat": 4,
 "nbformat_minor": 4
}
