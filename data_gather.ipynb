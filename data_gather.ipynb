{
 "cells": [
  {
   "cell_type": "code",
   "execution_count": 31,
   "metadata": {},
   "outputs": [],
   "source": [
    "import requests\n",
    "import json\n",
    "import os"
   ]
  },
  {
   "cell_type": "code",
   "execution_count": 4,
   "metadata": {},
   "outputs": [],
   "source": [
    "api_key = \"RGAPI-6687fb5a-52eb-4d62-9f0b-142a3ad6d7bf\""
   ]
  },
  {
   "cell_type": "code",
   "execution_count": 5,
   "metadata": {},
   "outputs": [],
   "source": [
    "end_point = \"league/v4/challengerleagues/by-queue/RANKED_SOLO_5x5\""
   ]
  },
  {
   "cell_type": "code",
   "execution_count": 6,
   "metadata": {},
   "outputs": [
    {
     "name": "stdout",
     "output_type": "stream",
     "text": [
      "<Response [200]>\n"
     ]
    }
   ],
   "source": [
    "url = \"https://na1.api.riotgames.com/lol/\"+ end_point +\"?api_key=\" + api_key\n",
    "x = requests.get(url)\n",
    "print(x)"
   ]
  },
  {
   "cell_type": "code",
   "execution_count": 7,
   "metadata": {},
   "outputs": [
    {
     "name": "stdout",
     "output_type": "stream",
     "text": [
      "{'summonerId': 'IBqeujFHm-WPPxsbullnBAqgkd_2fYAofEi8NoEDXsLw27I6', 'summonerName': 'Dęamon', 'leaguePoints': 891, 'rank': 'I', 'wins': 295, 'losses': 260, 'veteran': False, 'inactive': False, 'freshBlood': True, 'hotStreak': False}\n"
     ]
    }
   ],
   "source": [
    "json_object = json.loads(x.text)\n",
    "\n",
    "json_formatted_str = json.dumps(json_object, indent=2)\n",
    "players = json_object[\"entries\"]\n",
    "print((players[0]))\n",
    "sorted_players = sorted(players, key=lambda k: k['leaguePoints'])\n",
    "    "
   ]
  },
  {
   "cell_type": "code",
   "execution_count": 63,
   "metadata": {},
   "outputs": [],
   "source": [
    "def get_games(summonerName):\n",
    "    end_point = \"/lol/summoner/v4/summoners/by-name/\"+(summonerName).replace(\" \", \"%20\")\n",
    "    url = \"https://na1.api.riotgames.com\"+ end_point +\"?api_key=\" + api_key\n",
    "    x = requests.get(url)\n",
    "    json_object = json.loads(x.text)\n",
    "    puuid = json_object[\"puuid\"]\n",
    "    if not os.path.exists(puuid):\n",
    "        os.makedirs(puuid)\n",
    "    match_end = f\"/lol/match/v5/matches/by-puuid/{puuid}/ids?start=0&count=20&\"\n",
    "    url = \"https://americas.api.riotgames.com\"+ match_end +\"api_key=\" + api_key\n",
    "    x = requests.get(url)\n",
    "    print(url, x)\n",
    "    matchIds = x.json()\n",
    "    for matchId in matchIds:\n",
    "        print(matchIds)\n",
    "        match = f\"/lol/match/v5/matches/{matchId}\"\n",
    "        url = \"https://americas.api.riotgames.com\"+ match +\"?api_key=\" + api_key\n",
    "        match_request = requests.get(url)\n",
    "        with open(\"\"+puuid+\"/\"+matchId+\".json\", 'w') as js:\n",
    "            json.dump(match_request.json(), js)\n",
    "    # for player in participants:\n",
    "    #     player_end_point = '/lol/summoner/v4/summoners/by-puuid/'+player\n",
    "    #     url = \"https://na1.api.riotgames.com\"+ player_end_point +\"?api_key=\" + api_key\n",
    "    #     x =requests.get(url)\n",
    "    #     print(x.json()[\"name\"])"
   ]
  },
  {
   "cell_type": "code",
   "execution_count": 64,
   "metadata": {},
   "outputs": [
    {
     "name": "stdout",
     "output_type": "stream",
     "text": [
      "https://americas.api.riotgames.com/lol/match/v5/matches/by-puuid/9uQLAJ_LM-du4npVzVeuHIeIckINZb2QlhstkBsCupsl9mMyk1ybORDUPw2qS2wzZCp5OCuMGa2J6Q/ids?start=0&count=20&api_key=RGAPI-6687fb5a-52eb-4d62-9f0b-142a3ad6d7bf <Response [200]>\n",
      "['NA1_4295576624', 'NA1_4295612273', 'NA1_4295566878', 'NA1_4295535150', 'NA1_4295560845', 'NA1_4295469002', 'NA1_4295496121', 'NA1_4295494039', 'NA1_4295416868', 'NA1_4295444589', 'NA1_4295394635', 'NA1_4295432597', 'NA1_4295440941', 'NA1_4295419746', 'NA1_4292535192', 'NA1_4292584436', 'NA1_4292584216', 'NA1_4291353966', 'NA1_4291400062', 'NA1_4291317989']\n",
      "['NA1_4295576624', 'NA1_4295612273', 'NA1_4295566878', 'NA1_4295535150', 'NA1_4295560845', 'NA1_4295469002', 'NA1_4295496121', 'NA1_4295494039', 'NA1_4295416868', 'NA1_4295444589', 'NA1_4295394635', 'NA1_4295432597', 'NA1_4295440941', 'NA1_4295419746', 'NA1_4292535192', 'NA1_4292584436', 'NA1_4292584216', 'NA1_4291353966', 'NA1_4291400062', 'NA1_4291317989']\n",
      "['NA1_4295576624', 'NA1_4295612273', 'NA1_4295566878', 'NA1_4295535150', 'NA1_4295560845', 'NA1_4295469002', 'NA1_4295496121', 'NA1_4295494039', 'NA1_4295416868', 'NA1_4295444589', 'NA1_4295394635', 'NA1_4295432597', 'NA1_4295440941', 'NA1_4295419746', 'NA1_4292535192', 'NA1_4292584436', 'NA1_4292584216', 'NA1_4291353966', 'NA1_4291400062', 'NA1_4291317989']\n",
      "['NA1_4295576624', 'NA1_4295612273', 'NA1_4295566878', 'NA1_4295535150', 'NA1_4295560845', 'NA1_4295469002', 'NA1_4295496121', 'NA1_4295494039', 'NA1_4295416868', 'NA1_4295444589', 'NA1_4295394635', 'NA1_4295432597', 'NA1_4295440941', 'NA1_4295419746', 'NA1_4292535192', 'NA1_4292584436', 'NA1_4292584216', 'NA1_4291353966', 'NA1_4291400062', 'NA1_4291317989']\n",
      "['NA1_4295576624', 'NA1_4295612273', 'NA1_4295566878', 'NA1_4295535150', 'NA1_4295560845', 'NA1_4295469002', 'NA1_4295496121', 'NA1_4295494039', 'NA1_4295416868', 'NA1_4295444589', 'NA1_4295394635', 'NA1_4295432597', 'NA1_4295440941', 'NA1_4295419746', 'NA1_4292535192', 'NA1_4292584436', 'NA1_4292584216', 'NA1_4291353966', 'NA1_4291400062', 'NA1_4291317989']\n",
      "['NA1_4295576624', 'NA1_4295612273', 'NA1_4295566878', 'NA1_4295535150', 'NA1_4295560845', 'NA1_4295469002', 'NA1_4295496121', 'NA1_4295494039', 'NA1_4295416868', 'NA1_4295444589', 'NA1_4295394635', 'NA1_4295432597', 'NA1_4295440941', 'NA1_4295419746', 'NA1_4292535192', 'NA1_4292584436', 'NA1_4292584216', 'NA1_4291353966', 'NA1_4291400062', 'NA1_4291317989']\n",
      "['NA1_4295576624', 'NA1_4295612273', 'NA1_4295566878', 'NA1_4295535150', 'NA1_4295560845', 'NA1_4295469002', 'NA1_4295496121', 'NA1_4295494039', 'NA1_4295416868', 'NA1_4295444589', 'NA1_4295394635', 'NA1_4295432597', 'NA1_4295440941', 'NA1_4295419746', 'NA1_4292535192', 'NA1_4292584436', 'NA1_4292584216', 'NA1_4291353966', 'NA1_4291400062', 'NA1_4291317989']\n",
      "['NA1_4295576624', 'NA1_4295612273', 'NA1_4295566878', 'NA1_4295535150', 'NA1_4295560845', 'NA1_4295469002', 'NA1_4295496121', 'NA1_4295494039', 'NA1_4295416868', 'NA1_4295444589', 'NA1_4295394635', 'NA1_4295432597', 'NA1_4295440941', 'NA1_4295419746', 'NA1_4292535192', 'NA1_4292584436', 'NA1_4292584216', 'NA1_4291353966', 'NA1_4291400062', 'NA1_4291317989']\n",
      "['NA1_4295576624', 'NA1_4295612273', 'NA1_4295566878', 'NA1_4295535150', 'NA1_4295560845', 'NA1_4295469002', 'NA1_4295496121', 'NA1_4295494039', 'NA1_4295416868', 'NA1_4295444589', 'NA1_4295394635', 'NA1_4295432597', 'NA1_4295440941', 'NA1_4295419746', 'NA1_4292535192', 'NA1_4292584436', 'NA1_4292584216', 'NA1_4291353966', 'NA1_4291400062', 'NA1_4291317989']\n",
      "['NA1_4295576624', 'NA1_4295612273', 'NA1_4295566878', 'NA1_4295535150', 'NA1_4295560845', 'NA1_4295469002', 'NA1_4295496121', 'NA1_4295494039', 'NA1_4295416868', 'NA1_4295444589', 'NA1_4295394635', 'NA1_4295432597', 'NA1_4295440941', 'NA1_4295419746', 'NA1_4292535192', 'NA1_4292584436', 'NA1_4292584216', 'NA1_4291353966', 'NA1_4291400062', 'NA1_4291317989']\n",
      "['NA1_4295576624', 'NA1_4295612273', 'NA1_4295566878', 'NA1_4295535150', 'NA1_4295560845', 'NA1_4295469002', 'NA1_4295496121', 'NA1_4295494039', 'NA1_4295416868', 'NA1_4295444589', 'NA1_4295394635', 'NA1_4295432597', 'NA1_4295440941', 'NA1_4295419746', 'NA1_4292535192', 'NA1_4292584436', 'NA1_4292584216', 'NA1_4291353966', 'NA1_4291400062', 'NA1_4291317989']\n",
      "['NA1_4295576624', 'NA1_4295612273', 'NA1_4295566878', 'NA1_4295535150', 'NA1_4295560845', 'NA1_4295469002', 'NA1_4295496121', 'NA1_4295494039', 'NA1_4295416868', 'NA1_4295444589', 'NA1_4295394635', 'NA1_4295432597', 'NA1_4295440941', 'NA1_4295419746', 'NA1_4292535192', 'NA1_4292584436', 'NA1_4292584216', 'NA1_4291353966', 'NA1_4291400062', 'NA1_4291317989']\n",
      "['NA1_4295576624', 'NA1_4295612273', 'NA1_4295566878', 'NA1_4295535150', 'NA1_4295560845', 'NA1_4295469002', 'NA1_4295496121', 'NA1_4295494039', 'NA1_4295416868', 'NA1_4295444589', 'NA1_4295394635', 'NA1_4295432597', 'NA1_4295440941', 'NA1_4295419746', 'NA1_4292535192', 'NA1_4292584436', 'NA1_4292584216', 'NA1_4291353966', 'NA1_4291400062', 'NA1_4291317989']\n",
      "['NA1_4295576624', 'NA1_4295612273', 'NA1_4295566878', 'NA1_4295535150', 'NA1_4295560845', 'NA1_4295469002', 'NA1_4295496121', 'NA1_4295494039', 'NA1_4295416868', 'NA1_4295444589', 'NA1_4295394635', 'NA1_4295432597', 'NA1_4295440941', 'NA1_4295419746', 'NA1_4292535192', 'NA1_4292584436', 'NA1_4292584216', 'NA1_4291353966', 'NA1_4291400062', 'NA1_4291317989']\n",
      "['NA1_4295576624', 'NA1_4295612273', 'NA1_4295566878', 'NA1_4295535150', 'NA1_4295560845', 'NA1_4295469002', 'NA1_4295496121', 'NA1_4295494039', 'NA1_4295416868', 'NA1_4295444589', 'NA1_4295394635', 'NA1_4295432597', 'NA1_4295440941', 'NA1_4295419746', 'NA1_4292535192', 'NA1_4292584436', 'NA1_4292584216', 'NA1_4291353966', 'NA1_4291400062', 'NA1_4291317989']\n",
      "['NA1_4295576624', 'NA1_4295612273', 'NA1_4295566878', 'NA1_4295535150', 'NA1_4295560845', 'NA1_4295469002', 'NA1_4295496121', 'NA1_4295494039', 'NA1_4295416868', 'NA1_4295444589', 'NA1_4295394635', 'NA1_4295432597', 'NA1_4295440941', 'NA1_4295419746', 'NA1_4292535192', 'NA1_4292584436', 'NA1_4292584216', 'NA1_4291353966', 'NA1_4291400062', 'NA1_4291317989']\n",
      "['NA1_4295576624', 'NA1_4295612273', 'NA1_4295566878', 'NA1_4295535150', 'NA1_4295560845', 'NA1_4295469002', 'NA1_4295496121', 'NA1_4295494039', 'NA1_4295416868', 'NA1_4295444589', 'NA1_4295394635', 'NA1_4295432597', 'NA1_4295440941', 'NA1_4295419746', 'NA1_4292535192', 'NA1_4292584436', 'NA1_4292584216', 'NA1_4291353966', 'NA1_4291400062', 'NA1_4291317989']\n",
      "['NA1_4295576624', 'NA1_4295612273', 'NA1_4295566878', 'NA1_4295535150', 'NA1_4295560845', 'NA1_4295469002', 'NA1_4295496121', 'NA1_4295494039', 'NA1_4295416868', 'NA1_4295444589', 'NA1_4295394635', 'NA1_4295432597', 'NA1_4295440941', 'NA1_4295419746', 'NA1_4292535192', 'NA1_4292584436', 'NA1_4292584216', 'NA1_4291353966', 'NA1_4291400062', 'NA1_4291317989']\n",
      "['NA1_4295576624', 'NA1_4295612273', 'NA1_4295566878', 'NA1_4295535150', 'NA1_4295560845', 'NA1_4295469002', 'NA1_4295496121', 'NA1_4295494039', 'NA1_4295416868', 'NA1_4295444589', 'NA1_4295394635', 'NA1_4295432597', 'NA1_4295440941', 'NA1_4295419746', 'NA1_4292535192', 'NA1_4292584436', 'NA1_4292584216', 'NA1_4291353966', 'NA1_4291400062', 'NA1_4291317989']\n",
      "['NA1_4295576624', 'NA1_4295612273', 'NA1_4295566878', 'NA1_4295535150', 'NA1_4295560845', 'NA1_4295469002', 'NA1_4295496121', 'NA1_4295494039', 'NA1_4295416868', 'NA1_4295444589', 'NA1_4295394635', 'NA1_4295432597', 'NA1_4295440941', 'NA1_4295419746', 'NA1_4292535192', 'NA1_4292584436', 'NA1_4292584216', 'NA1_4291353966', 'NA1_4291400062', 'NA1_4291317989']\n"
     ]
    }
   ],
   "source": [
    "get_games(sorted_players[0][\"summonerName\"])"
   ]
  },
  {
   "cell_type": "code",
   "execution_count": null,
   "metadata": {},
   "outputs": [],
   "source": [
    "end_point = \"/lol/summoner/v4/summoners/by-name/\"+(sorted_players[299][\"summonerName\"]).replace(\" \", \"%20\")\n",
    "url = \"https://na1.api.riotgames.com\"+ end_point +\"?api_key=\" + api_key\n",
    "x = requests.get(url)\n",
    "json_object = json.loads(x.text)\n",
    "puuid = json_object[\"puuid\"]\n",
    "match_end = f\"/lol/match/v5/matches/by-puuid/{puuid}/ids\"\n",
    "url = \"https://americas.api.riotgames.com\"+ match_end +\"?api_key=\" + api_key\n",
    "x = requests.get(url)\n",
    "matchId = x.json()[2]\n",
    "match = f\"/lol/match/v5/matches/{matchId}\"\n",
    "url = \"https://americas.api.riotgames.com\"+ match +\"?api_key=\" + api_key\n",
    "match_request = requests.get(url)"
   ]
  },
  {
   "cell_type": "code",
   "execution_count": null,
   "metadata": {},
   "outputs": [
    {
     "name": "stdout",
     "output_type": "stream",
     "text": [
      "False\n"
     ]
    }
   ],
   "source": [
    "match_obj = match_request.json()\n",
    "player_num = -1\n",
    "for player in range(len(match_obj['metadata']['participants'])):\n",
    "    if match_obj['metadata']['participants'][player] == puuid:\n",
    "        player_num = player\n",
    "print(match_request.json()['info']['participants'][player]['win'])"
   ]
  },
  {
   "cell_type": "code",
   "execution_count": 71,
   "metadata": {},
   "outputs": [
    {
     "name": "stdout",
     "output_type": "stream",
     "text": [
      "NA1_4290593298\n"
     ]
    }
   ],
   "source": [
    "print(x.json()[0])"
   ]
  },
  {
   "cell_type": "code",
   "execution_count": null,
   "metadata": {},
   "outputs": [],
   "source": []
  }
 ],
 "metadata": {
  "interpreter": {
   "hash": "638e4f34b1ef7ba0cca28659d45c1fe0ffd169497502b8f30fb11c1c1736a4c9"
  },
  "kernelspec": {
   "display_name": "Python 3.9.7 ('base')",
   "language": "python",
   "name": "python3"
  },
  "language_info": {
   "codemirror_mode": {
    "name": "ipython",
    "version": 3
   },
   "file_extension": ".py",
   "mimetype": "text/x-python",
   "name": "python",
   "nbconvert_exporter": "python",
   "pygments_lexer": "ipython3",
   "version": "3.9.7"
  },
  "orig_nbformat": 4
 },
 "nbformat": 4,
 "nbformat_minor": 2
}
