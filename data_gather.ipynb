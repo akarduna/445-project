{
 "cells": [
  {
   "cell_type": "code",
   "execution_count": 15,
   "metadata": {},
   "outputs": [],
   "source": [
    "import requests\n",
    "import json\n",
    "import os\n",
    "import time\n",
    "import pickle\n",
    "from pathlib import Path"
   ]
  },
  {
   "cell_type": "code",
   "execution_count": 16,
   "metadata": {},
   "outputs": [],
   "source": [
    "api_key = \"RGAPI-fb98e73c-8e20-47e7-8b53-c240bf3d81d1\""
   ]
  },
  {
   "cell_type": "code",
   "execution_count": 17,
   "metadata": {},
   "outputs": [],
   "source": [
    "end_point = \"league/v4/challengerleagues/by-queue/RANKED_SOLO_5x5\""
   ]
  },
  {
   "cell_type": "code",
   "execution_count": 18,
   "metadata": {},
   "outputs": [
    {
     "name": "stdout",
     "output_type": "stream",
     "text": [
      "<Response [200]>\n"
     ]
    }
   ],
   "source": [
    "url = \"https://na1.api.riotgames.com/lol/\"+ end_point +\"?api_key=\" + api_key\n",
    "x = requests.get(url)\n",
    "print(x)"
   ]
  },
  {
   "cell_type": "code",
   "execution_count": 19,
   "metadata": {},
   "outputs": [
    {
     "name": "stdout",
     "output_type": "stream",
     "text": [
      "{'summonerId': 'qJN4WiKvFpewnqA0M7qUsvvc44NEydzj6mCPxyj4auzpRnk', 'summonerName': 'c2 meteos', 'leaguePoints': 1352, 'rank': 'I', 'wins': 294, 'losses': 240, 'veteran': True, 'inactive': False, 'freshBlood': False, 'hotStreak': False}\n"
     ]
    }
   ],
   "source": [
    "json_object = json.loads(x.text)\n",
    "\n",
    "json_formatted_str = json.dumps(json_object, indent=2)\n",
    "players = json_object[\"entries\"]\n",
    "print((players[0]))\n",
    "sorted_players = sorted(players, key=lambda k: k['leaguePoints'])\n",
    "sorted_player_ids = [d['summonerId'] for d in sorted_players]\n",
    "good_player_path = Path('data/') / 'good_players.pkl'\n",
    "with open(good_player_path, 'wb') as f:\n",
    "    pickle.dump(sorted_player_ids, f)"
   ]
  },
  {
   "cell_type": "code",
   "execution_count": 20,
   "metadata": {},
   "outputs": [
    {
     "data": {
      "text/plain": [
       "['WXJH5Ao3EGUYrOtEQDVakA1nANH_dOyl_HsXnuQtAkVPFsw',\n",
       " '7KDhpBuKkcKpjch8A4IxQUxM0zfYD9pgrwv5cGKqaeTOV2o',\n",
       " '5MrKSOQZoeZNozUPrmPpiAfj6Hj-I6j16jnko2bOSJwY3hPKqH-XWlLNvA',\n",
       " 'DcSnaqfvF78tCIhxeY726ZLim36eE0YZ75-p0R6N-3yxhPY',\n",
       " '_-Mrs1xvXPc-_PKAU4eslVTBHYsSd4_wRrKp4NYHe7TyRe4L',\n",
       " 'TFADiCNTRi2osEsGaMfSHvzJote_ROi21FIN0WfR8HjgEn4',\n",
       " 'gn1A_ZK4DYjO1HMS3m-tbm2BEKUpugWThu-ysJElZuGU9ic',\n",
       " 'TCP0YrNpUDh4YoIe0V2TeLwIHTeqsxVENy_Jxepl7RZVZ_k',\n",
       " 'DeGMi0Iy-_bqp3r-RGDc2jNgE-hYBO48uUB4c8lwX5oyP90',\n",
       " 'IBeQRkELJDqU2dSJ2MEhIxj3RxNXsugrz9YiLbsA-toMhXs']"
      ]
     },
     "execution_count": 20,
     "metadata": {},
     "output_type": "execute_result"
    }
   ],
   "source": [
    "pickle.load(open(good_player_path, 'rb'))[:10]"
   ]
  },
  {
   "cell_type": "code",
   "execution_count": 21,
   "metadata": {},
   "outputs": [],
   "source": [
    "num_matches = 20\n",
    "requests_per_summoner = 1 + 1 + num_matches # summonerToID + matchList + numMatches\n",
    "def get_games(summonerName):\n",
    "    end_point = \"/lol/summoner/v4/summoners/by-name/\"+(summonerName).replace(\" \", \"%20\")\n",
    "    url = \"https://na1.api.riotgames.com\"+ end_point +\"?api_key=\" + api_key\n",
    "    x = requests.get(url)\n",
    "    json_object = json.loads(x.text)\n",
    "    print(json_object)\n",
    "    \n",
    "    puuid = json_object[\"puuid\"]\n",
    "    data_path = f'data/{puuid}'\n",
    "    if not os.path.exists(data_path):\n",
    "        os.makedirs(data_path)\n",
    "    \n",
    "    match_end = f\"/lol/match/v5/matches/by-puuid/{puuid}/ids?start=0&count={num_matches}&type=ranked\"\n",
    "    url = \"https://americas.api.riotgames.com\"+ match_end +\"&api_key=\" + api_key\n",
    "    x = requests.get(url)\n",
    "    print(url, x)\n",
    "    matchIds = x.json()\n",
    "    for matchId in matchIds:\n",
    "        #print(matchIds)\n",
    "        match = f\"/lol/match/v5/matches/{matchId}\"\n",
    "        url = \"https://americas.api.riotgames.com\"+ match +\"?api_key=\" + api_key\n",
    "        match_request = requests.get(url)\n",
    "        # player_path = f'{data_path}/{matchId}'\n",
    "        # if not os.path.exists(player_path):\n",
    "        #     os.makedirs(player_path)\n",
    "        with open(data_path + \"/\" + matchId +\".json\", 'w') as js:\n",
    "            json.dump(match_request.json(), js)\n",
    "\n",
    "def get_games_by_id(summonerId):\n",
    "    puuid = summonerId\n",
    "    data_path = f'data/{puuid}'\n",
    "    if not os.path.exists(data_path):\n",
    "        os.makedirs(data_path)\n",
    "    \n",
    "    match_end = f\"/lol/match/v5/matches/by-puuid/{puuid}/ids?start=0&count={num_matches}&type=ranked\"\n",
    "    url = \"https://americas.api.riotgames.com\"+ match_end +\"&api_key=\" + api_key\n",
    "    x = requests.get(url)\n",
    "    print(url, x)\n",
    "    matchIds = x.json()\n",
    "    for matchId in matchIds:\n",
    "        #print(matchIds)\n",
    "        match = f\"/lol/match/v5/matches/{matchId}\"\n",
    "        url = \"https://americas.api.riotgames.com\"+ match +\"?api_key=\" + api_key\n",
    "        match_request = requests.get(url)\n",
    "        # player_path = f'{data_path}/{matchId}'\n",
    "        # if not os.path.exists(player_path):\n",
    "        #     os.makedirs(player_path)\n",
    "        with open(data_path + \"/\" + matchId +\".json\", 'w') as js:\n",
    "            json.dump(match_request.json(), js)"
   ]
  },
  {
   "cell_type": "code",
   "execution_count": 22,
   "metadata": {},
   "outputs": [
    {
     "name": "stdout",
     "output_type": "stream",
     "text": [
      "{'id': 'WXJH5Ao3EGUYrOtEQDVakA1nANH_dOyl_HsXnuQtAkVPFsw', 'accountId': 'aa7C1AsbJ4_0VdrOzAGOAqUftxqCJYH170T56EpZgt5yslI', 'puuid': 'VqWash5nB3YDPk6SUDDPk0gSBz35Yyti3F1ceMKevyT4AVfQMLaiq_ZmLb1icSO0NeR7wQUIU6Hmzw', 'name': 'Pluto3', 'profileIconId': 4158, 'revisionDate': 1652164346437, 'summonerLevel': 590}\n",
      "https://americas.api.riotgames.com/lol/match/v5/matches/by-puuid/VqWash5nB3YDPk6SUDDPk0gSBz35Yyti3F1ceMKevyT4AVfQMLaiq_ZmLb1icSO0NeR7wQUIU6Hmzw/ids?start=0&count=20&type=ranked&api_key=RGAPI-fb98e73c-8e20-47e7-8b53-c240bf3d81d1 <Response [200]>\n"
     ]
    }
   ],
   "source": [
    "get_games(sorted_players[0][\"summonerName\"])"
   ]
  },
  {
   "cell_type": "code",
   "execution_count": null,
   "metadata": {
    "tags": []
   },
   "outputs": [
    {
     "name": "stdout",
     "output_type": "stream",
     "text": [
      "{'summonerId': 'WXJH5Ao3EGUYrOtEQDVakA1nANH_dOyl_HsXnuQtAkVPFsw', 'summonerName': 'Pluto3', 'leaguePoints': 737, 'rank': 'I', 'wins': 222, 'losses': 193, 'veteran': False, 'inactive': False, 'freshBlood': False, 'hotStreak': False}\n",
      "{'id': 'WXJH5Ao3EGUYrOtEQDVakA1nANH_dOyl_HsXnuQtAkVPFsw', 'accountId': 'aa7C1AsbJ4_0VdrOzAGOAqUftxqCJYH170T56EpZgt5yslI', 'puuid': 'VqWash5nB3YDPk6SUDDPk0gSBz35Yyti3F1ceMKevyT4AVfQMLaiq_ZmLb1icSO0NeR7wQUIU6Hmzw', 'name': 'Pluto3', 'profileIconId': 4158, 'revisionDate': 1652164346437, 'summonerLevel': 590}\n",
      "https://americas.api.riotgames.com/lol/match/v5/matches/by-puuid/VqWash5nB3YDPk6SUDDPk0gSBz35Yyti3F1ceMKevyT4AVfQMLaiq_ZmLb1icSO0NeR7wQUIU6Hmzw/ids?start=0&count=20&type=ranked&api_key=RGAPI-fb98e73c-8e20-47e7-8b53-c240bf3d81d1 <Response [200]>\n",
      "{'summonerId': '7KDhpBuKkcKpjch8A4IxQUxM0zfYD9pgrwv5cGKqaeTOV2o', 'summonerName': 'YoungFartBubbles', 'leaguePoints': 769, 'rank': 'I', 'wins': 260, 'losses': 227, 'veteran': False, 'inactive': False, 'freshBlood': True, 'hotStreak': False}\n",
      "{'id': '7KDhpBuKkcKpjch8A4IxQUxM0zfYD9pgrwv5cGKqaeTOV2o', 'accountId': 'ctupIbG2VgEiDu0mV0zahFOWp5POX2h7FX0rT6cHsQWqAg', 'puuid': '3Ejr6Hrg4kUbhdt8Ldj8idgYyIMxeqxGUCcW1bRK35T2jsy5OF0ad-g7_j7fgGQBI8PSXrWvfi1jOg', 'name': 'YoungFartBubbles', 'profileIconId': 26, 'revisionDate': 1651349904000, 'summonerLevel': 328}\n",
      "https://americas.api.riotgames.com/lol/match/v5/matches/by-puuid/3Ejr6Hrg4kUbhdt8Ldj8idgYyIMxeqxGUCcW1bRK35T2jsy5OF0ad-g7_j7fgGQBI8PSXrWvfi1jOg/ids?start=0&count=20&type=ranked&api_key=RGAPI-fb98e73c-8e20-47e7-8b53-c240bf3d81d1 <Response [200]>\n",
      "{'summonerId': '5MrKSOQZoeZNozUPrmPpiAfj6Hj-I6j16jnko2bOSJwY3hPKqH-XWlLNvA', 'summonerName': 'her lulu kitten', 'leaguePoints': 785, 'rank': 'I', 'wins': 309, 'losses': 263, 'veteran': False, 'inactive': False, 'freshBlood': True, 'hotStreak': False}\n",
      "{'id': '5MrKSOQZoeZNozUPrmPpiAfj6Hj-I6j16jnko2bOSJwY3hPKqH-XWlLNvA', 'accountId': '76DJtIo5mmCg6bD1QDslmoRoM6KennNmemsRH1iEmw8r1wbXhq5zx1ht', 'puuid': 'mCinh7GMbkpubuVIY-khZWbgs9jnB8y_kXCv_mWMF7umvlxa6QO-6KcyArudpVXuj-gI0g3Y8c53uA', 'name': 'her lulu kitten', 'profileIconId': 23, 'revisionDate': 1651961362000, 'summonerLevel': 149}\n",
      "https://americas.api.riotgames.com/lol/match/v5/matches/by-puuid/mCinh7GMbkpubuVIY-khZWbgs9jnB8y_kXCv_mWMF7umvlxa6QO-6KcyArudpVXuj-gI0g3Y8c53uA/ids?start=0&count=20&type=ranked&api_key=RGAPI-fb98e73c-8e20-47e7-8b53-c240bf3d81d1 <Response [200]>\n",
      "{'summonerId': 'DcSnaqfvF78tCIhxeY726ZLim36eE0YZ75-p0R6N-3yxhPY', 'summonerName': 'Shiba lnu', 'leaguePoints': 785, 'rank': 'I', 'wins': 340, 'losses': 320, 'veteran': False, 'inactive': False, 'freshBlood': True, 'hotStreak': False}\n",
      "{'id': 'DcSnaqfvF78tCIhxeY726ZLim36eE0YZ75-p0R6N-3yxhPY', 'accountId': 'UWi65y1vtz0PaUsEzW2lEz7entDF5AEFQ5M_J5yhvvYWbw', 'puuid': 'pT4nEN4-2fyqbJoEtfULknYlnPyBfL_uRe1qjZdSRtDgyZdnLr_H72wsKUbZwsVskg3OcXVk0JVp2g', 'name': 'Shiba lnu', 'profileIconId': 5212, 'revisionDate': 1651700814000, 'summonerLevel': 636}\n",
      "https://americas.api.riotgames.com/lol/match/v5/matches/by-puuid/pT4nEN4-2fyqbJoEtfULknYlnPyBfL_uRe1qjZdSRtDgyZdnLr_H72wsKUbZwsVskg3OcXVk0JVp2g/ids?start=0&count=20&type=ranked&api_key=RGAPI-fb98e73c-8e20-47e7-8b53-c240bf3d81d1 <Response [200]>\n",
      "{'summonerId': '_-Mrs1xvXPc-_PKAU4eslVTBHYsSd4_wRrKp4NYHe7TyRe4L', 'summonerName': 'Mokokos', 'leaguePoints': 786, 'rank': 'I', 'wins': 92, 'losses': 68, 'veteran': False, 'inactive': False, 'freshBlood': True, 'hotStreak': False}\n",
      "{'id': '_-Mrs1xvXPc-_PKAU4eslVTBHYsSd4_wRrKp4NYHe7TyRe4L', 'accountId': 't79nCugoZtHg03tYcDj-rn380JWVDryI-yj3dI15dnJsubLrY18UgBZP', 'puuid': 'MmvtG9RWZPdpVrs1NRkuamTbULv_qMIrg2S-lPU29FLtsuS3PzUjXhsLCF1bincIq0lZgHy6lzufYg', 'name': 'Mokokos', 'profileIconId': 23, 'revisionDate': 1652002598000, 'summonerLevel': 636}\n",
      "https://americas.api.riotgames.com/lol/match/v5/matches/by-puuid/MmvtG9RWZPdpVrs1NRkuamTbULv_qMIrg2S-lPU29FLtsuS3PzUjXhsLCF1bincIq0lZgHy6lzufYg/ids?start=0&count=20&type=ranked&api_key=RGAPI-fb98e73c-8e20-47e7-8b53-c240bf3d81d1 <Response [200]>\n",
      "{'summonerId': 'TFADiCNTRi2osEsGaMfSHvzJote_ROi21FIN0WfR8HjgEn4', 'summonerName': 'typssy', 'leaguePoints': 786, 'rank': 'I', 'wins': 231, 'losses': 194, 'veteran': False, 'inactive': False, 'freshBlood': True, 'hotStreak': True}\n",
      "{'id': 'TFADiCNTRi2osEsGaMfSHvzJote_ROi21FIN0WfR8HjgEn4', 'accountId': 'iJ9oMu6OYYdHPs8DQGvf-EPRJLNAZKYmVqXbCERZPi1J2cQ', 'puuid': 'Tf3zjFAO39Zs5KiKX1zd9WxbK6g8vW6l8cK794lQ0sAH4USwDr4z3cRrLdcFXzS2vBvJPhSivXdMJw', 'name': 'typssy', 'profileIconId': 3859, 'revisionDate': 1652160884727, 'summonerLevel': 134}\n",
      "https://americas.api.riotgames.com/lol/match/v5/matches/by-puuid/Tf3zjFAO39Zs5KiKX1zd9WxbK6g8vW6l8cK794lQ0sAH4USwDr4z3cRrLdcFXzS2vBvJPhSivXdMJw/ids?start=0&count=20&type=ranked&api_key=RGAPI-fb98e73c-8e20-47e7-8b53-c240bf3d81d1 <Response [200]>\n",
      "{'summonerId': 'gn1A_ZK4DYjO1HMS3m-tbm2BEKUpugWThu-ysJElZuGU9ic', 'summonerName': 'Solodaboss', 'leaguePoints': 786, 'rank': 'I', 'wins': 148, 'losses': 114, 'veteran': False, 'inactive': False, 'freshBlood': True, 'hotStreak': False}\n",
      "{'id': 'gn1A_ZK4DYjO1HMS3m-tbm2BEKUpugWThu-ysJElZuGU9ic', 'accountId': 'eTKUcWI8b3atw-6LtlR8K4r3j0Qd0mpC7EmdgGRBQGPiC_Q', 'puuid': 'HTXOIfrjjbPKEVjszEVRkmpZlteNHOfhQHTbW0XLdqfvX_v1CycHB2UeJOyl3NI5THMyIAM3YgGOcw', 'name': 'Solodaboss', 'profileIconId': 1633, 'revisionDate': 1652041092000, 'summonerLevel': 291}\n",
      "https://americas.api.riotgames.com/lol/match/v5/matches/by-puuid/HTXOIfrjjbPKEVjszEVRkmpZlteNHOfhQHTbW0XLdqfvX_v1CycHB2UeJOyl3NI5THMyIAM3YgGOcw/ids?start=0&count=20&type=ranked&api_key=RGAPI-fb98e73c-8e20-47e7-8b53-c240bf3d81d1 <Response [200]>\n",
      "{'summonerId': 'TCP0YrNpUDh4YoIe0V2TeLwIHTeqsxVENy_Jxepl7RZVZ_k', 'summonerName': 'Reputed', 'leaguePoints': 787, 'rank': 'I', 'wins': 303, 'losses': 272, 'veteran': False, 'inactive': False, 'freshBlood': True, 'hotStreak': True}\n",
      "{'id': 'TCP0YrNpUDh4YoIe0V2TeLwIHTeqsxVENy_Jxepl7RZVZ_k', 'accountId': 'EPrzu0-Oij3QbGyVoNW8yFDTdkymPS0a5ukdYbMJ1Ukgag', 'puuid': '8jPXZwl9ATSVz06NMoiNCngUEzvvyXIs2PQlhaGEHpUqF2EOPDewz_wzid3oHj0K2UeciXEpTHQDXQ', 'name': 'Reputed', 'profileIconId': 773, 'revisionDate': 1651272920000, 'summonerLevel': 418}\n",
      "https://americas.api.riotgames.com/lol/match/v5/matches/by-puuid/8jPXZwl9ATSVz06NMoiNCngUEzvvyXIs2PQlhaGEHpUqF2EOPDewz_wzid3oHj0K2UeciXEpTHQDXQ/ids?start=0&count=20&type=ranked&api_key=RGAPI-fb98e73c-8e20-47e7-8b53-c240bf3d81d1 <Response [200]>\n"
     ]
    }
   ],
   "source": [
    "for player in sorted_players[:10]:\n",
    "    print(player)\n",
    "    get_games(player['summonerName'])\n",
    "    time.sleep(20)"
   ]
  },
  {
   "cell_type": "code",
   "execution_count": null,
   "metadata": {},
   "outputs": [],
   "source": [
    "data_path = Path('data/')\n",
    "for summoner_folder in data_path.iterdir():\n",
    "    if str(summoner_folder.name).startswith('.'):\n",
    "        continue\n",
    "    for game_file in summoner_folder:\n",
    "        with open(game_file, 'r') as f:\n",
    "            game_json = json.load(f)\n",
    "\n",
    "            metadata = game_json['metadata']\n",
    "            participants = metadata['participants']\n",
    "            for p in participants:\n",
    "                if not (data_path / p ).exists():\n",
    "                    get_games_by_id(p)\n"
   ]
  },
  {
   "cell_type": "code",
   "execution_count": null,
   "metadata": {},
   "outputs": [],
   "source": [
    "# end_point = \"/lol/summoner/v4/summoners/by-name/\"+(sorted_players[299][\"summonerName\"]).replace(\" \", \"%20\")\n",
    "# url = \"https://na1.api.riotgames.com\"+ end_point +\"?api_key=\" + api_key\n",
    "# x = requests.get(url)\n",
    "# json_object = json.loads(x.text)\n",
    "# puuid = json_object[\"puuid\"]\n",
    "# match_end = f\"/lol/match/v5/matches/by-puuid/{puuid}/ids\"\n",
    "# url = \"https://americas.api.riotgames.com\"+ match_end +\"?api_key=\" + api_key\n",
    "# x = requests.get(url)\n",
    "# matchId = x.json()[2]\n",
    "# match = f\"/lol/match/v5/matches/{matchId}\"\n",
    "# url = \"https://americas.api.riotgames.com\"+ match +\"?api_key=\" + api_key\n",
    "# match_request = requests.get(url)"
   ]
  },
  {
   "cell_type": "code",
   "execution_count": null,
   "metadata": {},
   "outputs": [
    {
     "name": "stdout",
     "output_type": "stream",
     "text": [
      "False\n"
     ]
    }
   ],
   "source": [
    "# match_obj = match_request.json()\n",
    "# player_num = -1\n",
    "# for player in range(len(match_obj['metadata']['participants'])):\n",
    "#     if match_obj['metadata']['participants'][player] == puuid:\n",
    "#         player_num = player\n",
    "# print(match_request.json()['info']['participants'][player]['win'])"
   ]
  },
  {
   "cell_type": "code",
   "execution_count": 71,
   "metadata": {},
   "outputs": [
    {
     "name": "stdout",
     "output_type": "stream",
     "text": [
      "NA1_4290593298\n"
     ]
    }
   ],
   "source": [
    "# print(x.json()[0])"
   ]
  },
  {
   "cell_type": "code",
   "execution_count": null,
   "metadata": {},
   "outputs": [],
   "source": []
  }
 ],
 "metadata": {
  "interpreter": {
   "hash": "638e4f34b1ef7ba0cca28659d45c1fe0ffd169497502b8f30fb11c1c1736a4c9"
  },
  "kernelspec": {
   "display_name": "Python 3 (ipykernel)",
   "language": "python",
   "name": "python3"
  },
  "language_info": {
   "codemirror_mode": {
    "name": "ipython",
    "version": 3
   },
   "file_extension": ".py",
   "mimetype": "text/x-python",
   "name": "python",
   "nbconvert_exporter": "python",
   "pygments_lexer": "ipython3",
   "version": "3.8.12"
  }
 },
 "nbformat": 4,
 "nbformat_minor": 4
}
